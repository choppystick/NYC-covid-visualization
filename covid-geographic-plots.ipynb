{
 "cells": [
  {
   "cell_type": "code",
   "execution_count": 38,
   "id": "initial_id",
   "metadata": {
    "collapsed": true,
    "ExecuteTime": {
     "end_time": "2024-07-17T21:43:21.559587300Z",
     "start_time": "2024-07-17T21:43:21.534469800Z"
    }
   },
   "outputs": [
    {
     "name": "stdout",
     "output_type": "stream",
     "text": [
      "C:\\Users\\samue\\DataspellProjects\\covid analysis\n"
     ]
    }
   ],
   "source": [
    "import matplotlib\n",
    "import matplotlib.pyplot as plt\n",
    "import pandas as pd\n",
    "import numpy as np\n",
    "import geopandas as gpd\n",
    "from geodatasets import get_path\n",
    "import os \n",
    "\n",
    "matplotlib.use(\"tkagg\")"
   ]
  },
  {
   "cell_type": "code",
   "execution_count": 41,
   "outputs": [
    {
     "name": "stdout",
     "output_type": "stream",
     "text": [
      "   BK_CASE_RATE  BX_CASE_RATE  MN_CASE_RATE  QN_CASE_RATE  SI_CASE_RATE\n",
      "0      41249.84      43468.76      40509.52      44517.62      53040.16\n"
     ]
    }
   ],
   "source": [
    "nyc = gpd.read_file(get_path('nybb'))\n",
    "url = \"https://raw.githubusercontent.com/nychealth/coronavirus-data/master/totals/group-cases-by-boro.csv\"\n",
    "df_boro = pd.read_csv(url)\n",
    "\n",
    "df_boro = df_boro[[\"BK_CASE_RATE\", \"BX_CASE_RATE\", \"MN_CASE_RATE\", \"QN_CASE_RATE\", \"SI_CASE_RATE\"]]\n",
    "df_boro = df_boro.loc[[0]]\n",
    "print(df_boro)\n",
    "# Melt the dataframe to convert columns to rows\n",
    "melted_df = df_boro.melt(var_name='borough', value_name='case_rate')\n",
    "\n",
    "# Clean up borough names\n",
    "borough_mapping = {\n",
    "    'BK_CASE_RATE': 'Brooklyn',\n",
    "    'BX_CASE_RATE': 'Bronx',\n",
    "    'MN_CASE_RATE': 'Manhattan',\n",
    "    'QN_CASE_RATE': 'Queens',\n",
    "    'SI_CASE_RATE': 'Staten Island'\n",
    "}\n",
    "\n",
    "melted_df['borough'] = melted_df['borough'].map(borough_mapping)\n",
    "\n",
    "# Reset the index\n",
    "melted_df = melted_df.reset_index(drop=True)\n",
    "nyc.rename(columns={'BoroName':'borough'}, inplace=True)\n",
    "bc_geo = nyc.merge(melted_df, on='borough')\n",
    "\n",
    "fig, ax = plt.subplots(figsize=(12, 12))\n",
    "# Plot the boroughs with a color scale based on confirmed cases\n",
    "bc_geo.plot(column='case_rate', ax=ax, legend=True,\n",
    "         legend_kwds={'label': 'Covid Case Rate (per 100,000)', 'orientation': 'vertical'},\n",
    "         cmap='Reds', missing_kwds={'color': 'lightgrey'})\n",
    "\n",
    "# Add borough labels\n",
    "bc_geo.apply(lambda x: ax.annotate(text=x.borough, color='black', xy=x.geometry.centroid.coords[0],ha='center'), axis=1)\n",
    "\n",
    "# Add title and adjust layout\n",
    "plt.title('COVID-19 Case Rate by NYC Borough', fontsize=16)\n",
    "plt.axis(\"off\")\n",
    "plt.tight_layout()\n",
    "\n",
    "# Show the plot\n",
    "plt.show()"
   ],
   "metadata": {
    "collapsed": false,
    "ExecuteTime": {
     "end_time": "2024-07-17T21:44:49.527636600Z",
     "start_time": "2024-07-17T21:44:34.204350700Z"
    }
   },
   "id": "2908a5962af29c2d"
  },
  {
   "cell_type": "code",
   "execution_count": 40,
   "outputs": [],
   "source": [
    "nyc = gpd.read_file(os.getcwd()+ \"\\\\city-of-ny\\\\city-of-ny-i8iw-xf4u\\\\ZIP_CODE_040114.shp\")\n",
    "crs = {'init':'epsg:4326'}\n",
    "\n",
    "\n",
    "url = \"https://raw.githubusercontent.com/nychealth/coronavirus-data/master/totals/data-by-modzcta.csv\"\n",
    "df = pd.read_csv(url)\n",
    "nyc[\"ZIPCODE\"] = pd.to_numeric(nyc[\"ZIPCODE\"])\n",
    "df[\"ZIPCODE\"] = df[\"MODIFIED_ZCTA\"]\n",
    "\n",
    "nyc = nyc.merge(df, on=\"ZIPCODE\")\n",
    "\n",
    "\n",
    "fig, ax = plt.subplots(figsize=(20,20))\n",
    "nyc.plot(ax=ax, column=\"COVID_CASE_RATE\", edgecolor=\"black\",linewidth=0.25, cmap=\"Purples\", legend=True,legend_kwds={'label': 'Covid Case Rate (per 100,000)', 'orientation': 'vertical'}, missing_kwds={'color': 'lightgrey'})\n",
    "\n",
    "def calculate_angle(shape):\n",
    "    coords = np.array(shape.exterior.coords)\n",
    "    x_pts, y_pts = coords[:, 0], coords[:, 1]\n",
    "\n",
    "    cov_matrix = np.cov(x_pts, y_pts)\n",
    "    evals, evecs = np.linalg.eigh(cov_matrix)\n",
    "\n",
    "    # Use the eigenvector corresponding to the largest eigenvalue\n",
    "    main_axis = evecs[:, np.argmax(evals)]\n",
    "    angle = np.arctan2(main_axis[1], main_axis[0])\n",
    "    return np.degrees(angle)\n",
    "\n",
    "# Function to adjust angle to prevent upside-down text\n",
    "def adjust_angle(angle):\n",
    "    if angle > 90:\n",
    "        angle -= 180\n",
    "    elif angle < -90:\n",
    "        angle += 180\n",
    "    return angle\n",
    "\n",
    "# Add labels with size and rotation based on area and orientation\n",
    "for idx, row in nyc.iterrows():\n",
    "    shape = row.geometry\n",
    "    zipcode = row['ZIPCODE']\n",
    "    area = shape.area\n",
    "    centroid = shape.centroid\n",
    "    angle = calculate_angle(shape)\n",
    "    adjusted_angle = adjust_angle(angle)\n",
    "    text_size = np.sqrt(area) / 1000  # Adjust the factor for better visualization\n",
    "\n",
    "    ax.annotate(zipcode, (centroid.x, centroid.y), fontsize=text_size,\n",
    "                ha='center', va='center', rotation=adjusted_angle,\n",
    "                rotation_mode='anchor', color=\"black\")\n",
    "    \n",
    "plt.title('NYC Covid Case Rate by Zipcodes', fontsize=20)\n",
    "plt.axis(\"off\")\n",
    "fig.subplots_adjust(hspace=0.0, wspace=0.0)\n",
    "plt.tight_layout()\n",
    "plt.savefig(\"map.png\", dpi=1000)\n",
    "\n"
   ],
   "metadata": {
    "collapsed": false,
    "ExecuteTime": {
     "end_time": "2024-07-17T21:44:11.831968100Z",
     "start_time": "2024-07-17T21:43:57.579738Z"
    }
   },
   "id": "cdf2a1b7f463dd54"
  }
 ],
 "metadata": {
  "kernelspec": {
   "display_name": "Python 3",
   "language": "python",
   "name": "python3"
  },
  "language_info": {
   "codemirror_mode": {
    "name": "ipython",
    "version": 2
   },
   "file_extension": ".py",
   "mimetype": "text/x-python",
   "name": "python",
   "nbconvert_exporter": "python",
   "pygments_lexer": "ipython2",
   "version": "2.7.6"
  }
 },
 "nbformat": 4,
 "nbformat_minor": 5
}
