{
 "cells": [
  {
   "cell_type": "code",
   "execution_count": 12,
   "outputs": [],
   "source": [
    "import matplotlib.pyplot as plt\n",
    "import pandas as pd\n",
    "import numpy as np\n"
   ],
   "metadata": {
    "collapsed": false,
    "ExecuteTime": {
     "end_time": "2024-07-16T17:36:37.026082600Z",
     "start_time": "2024-07-16T17:36:36.981698800Z"
    }
   },
   "id": "fe79a4457cc8d635"
  },
  {
   "cell_type": "markdown",
   "source": [
    "We first extract the raw csv file from the NYC health department GitHub page: https://github.com/nychealth/coronavirus-data/tree/master. Using pandas, we can get the csv file directly from the link and read the data into a dataframe.\n"
   ],
   "metadata": {
    "collapsed": false
   },
   "id": "9f83b0f297a7a370"
  },
  {
   "cell_type": "code",
   "execution_count": 13,
   "outputs": [
    {
     "data": {
      "text/plain": "          subgroup  CONFIRMED_CASE_RATE  CASE_RATE  HOSPITALIZED_RATE  \\\ngroup                                                                   \nAge group      0-4             22479.08   26585.49             907.93   \nAge group     5-12             27155.33   32975.20             287.60   \nAge group    13-17             29559.28   36693.00             456.05   \nAge group     0-17                  NaN        NaN                NaN   \nAge group    18-24             38826.64   48513.57             960.31   \n\n           DEATH_RATE  CONFIRMED_CASE_COUNT  PROBABLE_CASE_COUNT  CASE_COUNT  \\\ngroup                                                                          \nAge group         NaN              117727.0              21506.0    139233.0   \nAge group         NaN              203002.0              43507.0    246509.0   \nAge group         NaN              127946.0              30878.0    158824.0   \nAge group        3.52                   NaN                  NaN         NaN   \nAge group       11.49              273600.0              68261.0    341861.0   \n\n           HOSPITALIZED_COUNT  DEATH_COUNT  \ngroup                                       \nAge group              4755.0          NaN  \nAge group              2150.0          NaN  \nAge group              1974.0          NaN  \nAge group                 NaN         60.0  \nAge group              6767.0         81.0  ",
      "text/html": "<div>\n<style scoped>\n    .dataframe tbody tr th:only-of-type {\n        vertical-align: middle;\n    }\n\n    .dataframe tbody tr th {\n        vertical-align: top;\n    }\n\n    .dataframe thead th {\n        text-align: right;\n    }\n</style>\n<table border=\"1\" class=\"dataframe\">\n  <thead>\n    <tr style=\"text-align: right;\">\n      <th></th>\n      <th>subgroup</th>\n      <th>CONFIRMED_CASE_RATE</th>\n      <th>CASE_RATE</th>\n      <th>HOSPITALIZED_RATE</th>\n      <th>DEATH_RATE</th>\n      <th>CONFIRMED_CASE_COUNT</th>\n      <th>PROBABLE_CASE_COUNT</th>\n      <th>CASE_COUNT</th>\n      <th>HOSPITALIZED_COUNT</th>\n      <th>DEATH_COUNT</th>\n    </tr>\n    <tr>\n      <th>group</th>\n      <th></th>\n      <th></th>\n      <th></th>\n      <th></th>\n      <th></th>\n      <th></th>\n      <th></th>\n      <th></th>\n      <th></th>\n      <th></th>\n    </tr>\n  </thead>\n  <tbody>\n    <tr>\n      <th>Age group</th>\n      <td>0-4</td>\n      <td>22479.08</td>\n      <td>26585.49</td>\n      <td>907.93</td>\n      <td>NaN</td>\n      <td>117727.0</td>\n      <td>21506.0</td>\n      <td>139233.0</td>\n      <td>4755.0</td>\n      <td>NaN</td>\n    </tr>\n    <tr>\n      <th>Age group</th>\n      <td>5-12</td>\n      <td>27155.33</td>\n      <td>32975.20</td>\n      <td>287.60</td>\n      <td>NaN</td>\n      <td>203002.0</td>\n      <td>43507.0</td>\n      <td>246509.0</td>\n      <td>2150.0</td>\n      <td>NaN</td>\n    </tr>\n    <tr>\n      <th>Age group</th>\n      <td>13-17</td>\n      <td>29559.28</td>\n      <td>36693.00</td>\n      <td>456.05</td>\n      <td>NaN</td>\n      <td>127946.0</td>\n      <td>30878.0</td>\n      <td>158824.0</td>\n      <td>1974.0</td>\n      <td>NaN</td>\n    </tr>\n    <tr>\n      <th>Age group</th>\n      <td>0-17</td>\n      <td>NaN</td>\n      <td>NaN</td>\n      <td>NaN</td>\n      <td>3.52</td>\n      <td>NaN</td>\n      <td>NaN</td>\n      <td>NaN</td>\n      <td>NaN</td>\n      <td>60.0</td>\n    </tr>\n    <tr>\n      <th>Age group</th>\n      <td>18-24</td>\n      <td>38826.64</td>\n      <td>48513.57</td>\n      <td>960.31</td>\n      <td>11.49</td>\n      <td>273600.0</td>\n      <td>68261.0</td>\n      <td>341861.0</td>\n      <td>6767.0</td>\n      <td>81.0</td>\n    </tr>\n  </tbody>\n</table>\n</div>"
     },
     "execution_count": 13,
     "metadata": {},
     "output_type": "execute_result"
    }
   ],
   "source": [
    "url = \"https://raw.githubusercontent.com/nychealth/coronavirus-data/master/totals/\"\n",
    "data_urls = [\"by-group.csv\", \"data-by-modzcta.csv\", \"deaths-by-race-age.csv\", \"group-cases-by-boro.csv\", \"group-data-by-boro.csv\", \"group-death-by-boro.csv\", \"group-hosp-by-boro.csv\", \"summary.csv\"]\n",
    "\n",
    "df_group = pd.read_csv(url+data_urls[0], index_col=0)\n",
    "df_group.head(5)"
   ],
   "metadata": {
    "collapsed": false,
    "ExecuteTime": {
     "end_time": "2024-07-16T17:36:38.231247600Z",
     "start_time": "2024-07-16T17:36:38.146743500Z"
    }
   },
   "id": "aa360995381406b4"
  },
  {
   "cell_type": "markdown",
   "source": [
    "We first analyze the age groups among the race that is most susceptible to death by the coronavirus. The below code gives us a bar graph that puts the rate of death cases together for a simple visualization."
   ],
   "metadata": {
    "collapsed": false
   },
   "id": "310091b82bd1c323"
  },
  {
   "cell_type": "code",
   "execution_count": 15,
   "outputs": [
    {
     "name": "stdout",
     "output_type": "stream",
     "text": [
      "                        AGE_0_17_YRS  AGE_18_24_YRS  AGE_25_34_YRS  \\\n",
      "RACE_GROUP                                                           \n",
      "Asian/Pacific-Islander          2.78           4.06          12.22   \n",
      "Black/African-American          6.43          21.24          49.40   \n",
      "Hispanic/Latino                 2.67          11.85          39.43   \n",
      "White                           2.64           4.15          11.21   \n",
      "\n",
      "                        AGE_35_44_YRS  AGE_45_54_YRS  AGE_55_64_YRS  \\\n",
      "RACE_GROUP                                                            \n",
      "Asian/Pacific-Islander          31.26         120.62         357.03   \n",
      "Black/African-American         136.11         354.26         849.05   \n",
      "Hispanic/Latino                147.18         352.80         794.58   \n",
      "White                           28.13         102.48         383.10   \n",
      "\n",
      "                        AGE_65_74_YRS  AGE_GE_75_YRS  \n",
      "RACE_GROUP                                            \n",
      "Asian/Pacific-Islander         920.74        3526.91  \n",
      "Black/African-American        1959.42        4627.53  \n",
      "Hispanic/Latino               1796.19        4756.22  \n",
      "White                          939.89        4072.43  \n"
     ]
    }
   ],
   "source": [
    "df_race = pd.read_csv(url+data_urls[2], index_col=0)\n",
    "print(df_race.head(10))\n",
    "\n",
    "plt.style.use(\"ggplot\")\n",
    "fig,ax = plt.subplots(figsize=(14,9))\n",
    "bar_width = 0.1\n",
    "r = np.arange(len(df_race.index))\n",
    "\n",
    "for i, col in enumerate(df_race.columns):\n",
    "    ax.bar(r + i * bar_width, df_race[col], width=bar_width, label=col)\n",
    "\n",
    "ax.set_xlabel('Race Group', fontweight='bold', fontsize=12)\n",
    "ax.set_ylabel('Death Rate', fontweight='bold', fontsize=12)\n",
    "ax.set_title('Age Distribution by Race Group', fontweight='bold', fontsize=14)\n",
    "ax.set_xticks(r + bar_width * 3.5)\n",
    "ax.set_xticklabels(df_race.index, rotation=45, ha='right')\n",
    "\n",
    "ax.legend(title='Age Groups', bbox_to_anchor=(1.05, 1), loc='upper left')\n",
    "def add_y_value_labels(ax, spacing=5):\n",
    "    for rect in ax.patches:\n",
    "        y_value = rect.get_height()\n",
    "        x_value = rect.get_x() + rect.get_width() / 2\n",
    "\n",
    "        label = f\"{y_value:.0f}\"\n",
    "\n",
    "        va = 'bottom' if y_value >= 0 else 'top'\n",
    "\n",
    "        ax.annotate(\n",
    "            label,\n",
    "            (x_value, y_value),\n",
    "            xytext=(0, spacing),\n",
    "            textcoords=\"offset points\",\n",
    "            ha='center',\n",
    "            va=va)\n",
    "        \n",
    "add_y_value_labels(ax)\n",
    "# Adjust layout and display the plot\n",
    "plt.tight_layout()\n",
    "plt.show()"
   ],
   "metadata": {
    "collapsed": false,
    "ExecuteTime": {
     "end_time": "2024-07-16T17:39:56.601068700Z",
     "start_time": "2024-07-16T17:38:39.834222800Z"
    }
   },
   "id": "911edcfb4cdf6c7e"
  },
  {
   "cell_type": "markdown",
   "source": [
    "It seems that among all races, the age group with overwhelmingly high rate of death is the population with age higher than 75 years old.\n",
    "\n",
    "Let's perform an even more in-depth analysis between the age groups. We now plot a bar graph to visualize the different type of cases within the age groups."
   ],
   "metadata": {
    "collapsed": false
   },
   "id": "3441f28fb154505d"
  },
  {
   "cell_type": "code",
   "execution_count": 16,
   "outputs": [
    {
     "name": "stdout",
     "output_type": "stream",
     "text": [
      "              group  CONFIRMED_CASE_RATE  CASE_RATE  HOSPITALIZED_RATE  \\\n",
      "subgroup                                                                 \n",
      "18-24     Age group             38826.64   48513.57             960.31   \n",
      "25-34     Age group             39479.57   48830.39            1211.57   \n",
      "35-44     Age group             40489.72   49408.66            1681.76   \n",
      "45-54     Age group             38066.33   46355.71            2364.20   \n",
      "55-64     Age group             36205.55   44081.80            3947.24   \n",
      "65-74     Age group             32083.28   38877.43            6257.42   \n",
      "75+       Age group             32631.19   38844.93           12666.62   \n",
      "\n",
      "          DEATH_RATE  CONFIRMED_CASE_COUNT  PROBABLE_CASE_COUNT  CASE_COUNT  \\\n",
      "subgroup                                                                      \n",
      "18-24          11.49              273600.0              68261.0    341861.0   \n",
      "25-34          28.71              585758.0             138738.0    724496.0   \n",
      "35-44          92.44              460330.0             101400.0    561730.0   \n",
      "45-54         257.66              391355.0              85222.0    476577.0   \n",
      "55-64         651.70              361667.0              78678.0    440345.0   \n",
      "65-74        1466.62              230613.0              48836.0    279449.0   \n",
      "75+          4473.57              183260.0              34897.0    218157.0   \n",
      "\n",
      "          HOSPITALIZED_COUNT  DEATH_COUNT  \n",
      "subgroup                                   \n",
      "18-24                 6767.0         81.0  \n",
      "25-34                17976.0        426.0  \n",
      "35-44                19120.0       1051.0  \n",
      "45-54                24306.0       2649.0  \n",
      "55-64                39430.0       6510.0  \n",
      "65-74                44978.0      10542.0  \n",
      "75+                  71137.0      25124.0  \n"
     ]
    }
   ],
   "source": [
    "df_data = pd.read_csv(url+data_urls[0], index_col=1)\n",
    "df_data = df_data.dropna(axis=0)\n",
    "df_data = df_data[df_data['group'] == \"Age group\"]\n",
    "\n",
    "plt.style.use(\"ggplot\")\n",
    "fig, ax = plt.subplots(figsize=(16,9))\n",
    "bar_height = 0.2\n",
    "print(df_data.head(10))\n",
    "\n",
    "r = np.arange(len(df_data.index))\n",
    "\n",
    "ax.barh(r, df_data['CASE_RATE'], height=bar_height, label='Case Rate', color='blue')\n",
    "ax.barh(r + bar_height, df_data['HOSPITALIZED_RATE'], height=bar_height, label='Hospitalized Rate', color='green')\n",
    "ax.barh(r + 2 * bar_height, df_data['DEATH_RATE'], height=bar_height, label='Death Rate', color='red')\n",
    "\n",
    "# Add y-ticks in the middle of the group bars\n",
    "ax.set_ylabel('Age Group', fontweight='bold', fontsize=12)\n",
    "ax.set_xlabel('Rate per 100,000', fontweight='bold', fontsize=12)\n",
    "ax.set_title('Case, Hospitalization, and Death Rates by Age Group', fontweight='bold', fontsize=14)\n",
    "ax.set_yticks(r + bar_height)\n",
    "ax.set_yticklabels(df_data.index)\n",
    "\n",
    "# Create legend\n",
    "ax.legend(title='Rates', bbox_to_anchor=(1.05, 1), loc='upper left')\n",
    "\n",
    "# Use logarithmic scale for x-axis due to large differences in magnitudes\n",
    "ax.set_xscale('log')\n",
    "\n",
    "def add_value_labels(ax, spacing=5):\n",
    "    for rect in ax.patches:\n",
    "        x_value = rect.get_width()\n",
    "        y_value = rect.get_y() + rect.get_height() / 2\n",
    "\n",
    "        label = f\"{x_value:.0f}\"\n",
    "\n",
    "        ha = 'left' if x_value >= 0 else 'right'\n",
    "\n",
    "        ax.annotate(\n",
    "            label,\n",
    "            (x_value, y_value),\n",
    "            xytext=(spacing, 0),\n",
    "            textcoords=\"offset points\",\n",
    "            ha=ha,\n",
    "            va='center')\n",
    "\n",
    "add_value_labels(ax)\n",
    "plt.tight_layout()\n",
    "plt.show()\n"
   ],
   "metadata": {
    "collapsed": false,
    "ExecuteTime": {
     "end_time": "2024-07-16T17:41:09.052323600Z",
     "start_time": "2024-07-16T17:40:29.454731Z"
    }
   },
   "id": "1145d8fc44058cfd"
  },
  {
   "cell_type": "code",
   "execution_count": 17,
   "outputs": [
    {
     "name": "stdout",
     "output_type": "stream",
     "text": [
      "         group  CONFIRMED_CASE_RATE  CASE_RATE  HOSPITALIZED_RATE  DEATH_RATE  \\\n",
      "subgroup                                                                        \n",
      "Female     Sex             37095.13   45544.15            2659.84      471.09   \n",
      "Male       Sex             32976.85   39927.92            2932.91      651.26   \n",
      "\n",
      "          CONFIRMED_CASE_COUNT  PROBABLE_CASE_COUNT  CASE_COUNT  \\\n",
      "subgroup                                                          \n",
      "Female               1616746.0             368240.0   1984986.0   \n",
      "Male                 1311964.0             276544.0   1588508.0   \n",
      "\n",
      "          HOSPITALIZED_COUNT  DEATH_COUNT  \n",
      "subgroup                                   \n",
      "Female              115926.0      20532.0  \n",
      "Male                116684.0      25910.0  \n"
     ]
    }
   ],
   "source": [
    "\n",
    "df_data = pd.read_csv(url + data_urls[0], index_col=1)\n",
    "df_data = df_data.dropna(axis=0)\n",
    "df_data = df_data[df_data['group'] == \"Sex\"]\n",
    "print(df_data.head(10))\n",
    "\n",
    "plt.style.use(\"ggplot\")\n",
    "fig, ax = plt.subplots(figsize=(14, 9))\n",
    "bar_width = 0.25\n",
    "r = np.arange(len(df_data.index))\n",
    "\n",
    "ax.bar(r, df_data['CASE_RATE'], bar_width, label='Case Rate', color='blue')\n",
    "ax.bar(r + bar_width, df_data['HOSPITALIZED_RATE'], bar_width, label='Hospitalized Rate', color='green')\n",
    "ax.bar(r + 2 * bar_width, df_data['DEATH_RATE'], bar_width, label='Death Rate', color='red')\n",
    "\n",
    "ax.set_xlabel('Age Group', fontweight='bold', fontsize=12)\n",
    "ax.set_ylabel('Rate per 100,000', fontweight='bold', fontsize=12)\n",
    "ax.set_title('Case, Hospitalization, and Death Rates by Age Group', fontweight='bold', fontsize=14)\n",
    "ax.set_xticks(r + bar_width)\n",
    "ax.set_xticklabels(df_data.index)\n",
    "\n",
    "ax.legend(title='Rates', bbox_to_anchor=(1.05, 1), loc='upper left')\n",
    "ax.set_yscale('log')\n",
    "\n",
    "add_y_value_labels(ax)\n",
    "plt.tight_layout()\n",
    "plt.show()"
   ],
   "metadata": {
    "collapsed": false,
    "ExecuteTime": {
     "end_time": "2024-07-16T17:42:03.226977400Z",
     "start_time": "2024-07-16T17:41:12.816265400Z"
    }
   },
   "id": "c84a29baaac0af24"
  }
 ],
 "metadata": {
  "kernelspec": {
   "display_name": "Python 3",
   "language": "python",
   "name": "python3"
  },
  "language_info": {
   "codemirror_mode": {
    "name": "ipython",
    "version": 2
   },
   "file_extension": ".py",
   "mimetype": "text/x-python",
   "name": "python",
   "nbconvert_exporter": "python",
   "pygments_lexer": "ipython2",
   "version": "2.7.6"
  }
 },
 "nbformat": 4,
 "nbformat_minor": 5
}
